{
 "cells": [
  {
   "cell_type": "code",
   "execution_count": 3,
   "metadata": {
    "id": "CXJmTd-l8Ga-"
   },
   "outputs": [
    {
     "name": "stderr",
     "output_type": "stream",
     "text": [
      "Validating:: 100%|█████████████████████████████████████████████████████████████████| 2060/2060 [01:06<00:00, 30.82it/s]\n"
     ]
    }
   ],
   "source": [
    "import torch\n",
    "from tqdm import tqdm\n",
    "from torch.utils.data import DataLoader\n",
    "import torchvision.transforms as T\n",
    "\n",
    "from dataset import VisualOdometryDataset\n",
    "from model import VisualOdometryModel\n",
    "from params import *\n",
    "\n",
    "\n",
    "# Create the visual odometry model\n",
    "model = VisualOdometryModel(hidden_size, num_layers)\n",
    "\n",
    "transform = T.Compose([\n",
    "    T.ToTensor(),\n",
    "    model.resnet_transforms()\n",
    "])\n",
    "\n",
    "\n",
    "# TODO\n",
    "# Load dataset\n",
    "val_dataset = VisualOdometryDataset(transform=transform, validation=True, dataset_path='dataset/val', sequence_length=sequence_length)\n",
    "val_loader = DataLoader(val_dataset, batch_size=1, shuffle=False)\n",
    "\n",
    "\n",
    "# val\n",
    "device = torch.device(\"cuda:0\" if torch.cuda.is_available() else \"cpu\")\n",
    "\n",
    "model.to(device)\n",
    "model.load_state_dict(torch.load(\"vo.pt\"))\n",
    "model.eval()\n",
    "\n",
    "validation_string = \"\"\n",
    "position = [0.0] * 7\n",
    "\n",
    "with torch.no_grad():\n",
    "    for images, labels, timestamp in tqdm(val_loader, f\"Validating:\"):\n",
    "\n",
    "        images = images.to(device)\n",
    "\n",
    "        target = model(images).cpu().numpy().tolist()[0]\n",
    "\n",
    "        # TODO: add the results into the validation_string\n",
    "        for i in range(7):\n",
    "            position[i] += target[i]\n",
    "\n",
    "\n",
    "        position_str = \" \".join(map(str, position))\n",
    "        validation_string += f\"{timestamp[0]} {position_str}\\n\"\n",
    "\n",
    "\n",
    "f = open(\"validation.txt\", \"a\")\n",
    "f.write(validation_string)\n",
    "f.close()"
   ]
  },
  {
   "cell_type": "code",
   "execution_count": null,
   "metadata": {},
   "outputs": [],
   "source": []
  }
 ],
 "metadata": {
  "colab": {
   "authorship_tag": "ABX9TyO6epqVVmE40sgEhjV+jjmN",
   "provenance": []
  },
  "kernelspec": {
   "display_name": "Python 3 (ipykernel)",
   "language": "python",
   "name": "python3"
  },
  "language_info": {
   "codemirror_mode": {
    "name": "ipython",
    "version": 3
   },
   "file_extension": ".py",
   "mimetype": "text/x-python",
   "name": "python",
   "nbconvert_exporter": "python",
   "pygments_lexer": "ipython3",
   "version": "3.8.18"
  }
 },
 "nbformat": 4,
 "nbformat_minor": 4
}

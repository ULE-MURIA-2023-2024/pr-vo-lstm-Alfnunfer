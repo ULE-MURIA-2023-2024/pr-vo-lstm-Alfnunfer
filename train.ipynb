{
 "cells": [
  {
   "cell_type": "code",
   "execution_count": 2,
   "metadata": {
    "colab": {
     "base_uri": "https://localhost:8080/",
     "height": 1000
    },
    "executionInfo": {
     "elapsed": 43383,
     "status": "error",
     "timestamp": 1717008603866,
     "user": {
      "displayName": "Alfonso Núñez",
      "userId": "13574443912977650967"
     },
     "user_tz": -120
    },
    "id": "1E2b0nss74Jb",
    "outputId": "097caf8d-d50f-415e-c8c2-4a7a115c17b9"
   },
   "outputs": [
    {
     "name": "stderr",
     "output_type": "stream",
     "text": [
      "C:\\Users\\usuario\\.conda\\envs\\GPU\\lib\\site-packages\\torch\\nn\\modules\\rnn.py:83: UserWarning: dropout option adds dropout after all but last recurrent layer, so non-zero dropout expects num_layers greater than 1, but got dropout=0.2 and num_layers=1\n",
      "  warnings.warn(\"dropout option adds dropout after all but last \"\n",
      "Epoch 1:: 100%|████████████████████████████████████████████████████████████████████████| 69/69 [03:08<00:00,  2.73s/it]\n"
     ]
    },
    {
     "name": "stdout",
     "output_type": "stream",
     "text": [
      "Epoch [1/5], Loss: 0.0044396282919478836\n"
     ]
    },
    {
     "name": "stderr",
     "output_type": "stream",
     "text": [
      "Epoch 2:: 100%|████████████████████████████████████████████████████████████████████████| 69/69 [03:16<00:00,  2.85s/it]\n"
     ]
    },
    {
     "name": "stdout",
     "output_type": "stream",
     "text": [
      "Epoch [2/5], Loss: 0.004403174071384179\n"
     ]
    },
    {
     "name": "stderr",
     "output_type": "stream",
     "text": [
      "Epoch 3:: 100%|████████████████████████████████████████████████████████████████████████| 69/69 [03:13<00:00,  2.80s/it]\n"
     ]
    },
    {
     "name": "stdout",
     "output_type": "stream",
     "text": [
      "Epoch [3/5], Loss: 0.0043152013183672625\n"
     ]
    },
    {
     "name": "stderr",
     "output_type": "stream",
     "text": [
      "Epoch 4:: 100%|████████████████████████████████████████████████████████████████████████| 69/69 [03:12<00:00,  2.79s/it]\n"
     ]
    },
    {
     "name": "stdout",
     "output_type": "stream",
     "text": [
      "Epoch [4/5], Loss: 0.004309566379178896\n"
     ]
    },
    {
     "name": "stderr",
     "output_type": "stream",
     "text": [
      "Epoch 5:: 100%|████████████████████████████████████████████████████████████████████████| 69/69 [03:08<00:00,  2.73s/it]\n"
     ]
    },
    {
     "name": "stdout",
     "output_type": "stream",
     "text": [
      "Epoch [5/5], Loss: 0.0041409558912889315\n"
     ]
    }
   ],
   "source": [
    "import torch\n",
    "from tqdm import tqdm\n",
    "from torch.utils.data import DataLoader\n",
    "import torchvision.transforms as T\n",
    "\n",
    "from dataset import VisualOdometryDataset\n",
    "from model import VisualOdometryModel\n",
    "from params import *\n",
    "\n",
    "\n",
    "# Create the visual odometry model\n",
    "model = VisualOdometryModel(hidden_size, num_layers)\n",
    "\n",
    "transform = T.Compose([\n",
    "    T.ToTensor(),\n",
    "    model.resnet_transforms()\n",
    "])\n",
    "\n",
    "# TODO\n",
    "# Load the dataset\n",
    "train_dataset = VisualOdometryDataset(transform=transform, dataset_path='dataset/train', sequence_length=sequence_length)\n",
    "train_loader = DataLoader(train_dataset, batch_size=batch_size, shuffle=True) # batch_size\n",
    "\n",
    "\n",
    "\n",
    "# train\n",
    "device = torch.device(\"cuda:0\" if torch.cuda.is_available() else \"cpu\")\n",
    "model.to(device)\n",
    "\n",
    "criterion = torch.nn.MSELoss()\n",
    "optimizer = torch.optim.Adam(model.parameters(), lr=learning_rate)\n",
    "\n",
    "model.train()\n",
    "running_loss = 0.0\n",
    "\n",
    "for epoch in range(epochs):\n",
    "\n",
    "    for images, labels, _ in tqdm(train_loader, f\"Epoch {epoch + 1}:\"):\n",
    "\n",
    "        # TODO\n",
    "        images, labels = images.to(device), labels.to(device)\n",
    "\n",
    "        optimizer.zero_grad()\n",
    "        outputs = model(images)\n",
    "        \n",
    "        loss = criterion(outputs, labels)\n",
    "        loss.backward()\n",
    "        optimizer.step()\n",
    "\n",
    "        running_loss += loss.item()\n",
    "\n",
    "\n",
    "    print(\n",
    "        f\"Epoch [{epoch+1}/{epochs}], Loss: {running_loss / len(train_loader)}\")\n",
    "    running_loss = 0.0\n",
    "\n",
    "\n",
    "torch.save(model.state_dict(), \"./vo.pt\")"
   ]
  },
  {
   "cell_type": "code",
   "execution_count": null,
   "metadata": {},
   "outputs": [],
   "source": []
  }
 ],
 "metadata": {
  "accelerator": "GPU",
  "colab": {
   "authorship_tag": "ABX9TyOipUZINiS8BZCWnbVx3w8n",
   "gpuType": "T4",
   "mount_file_id": "13OStro1W2vo91RfCuNaSJKy9cNSjWYbA",
   "provenance": []
  },
  "kernelspec": {
   "display_name": "Python 3 (ipykernel)",
   "language": "python",
   "name": "python3"
  },
  "language_info": {
   "codemirror_mode": {
    "name": "ipython",
    "version": 3
   },
   "file_extension": ".py",
   "mimetype": "text/x-python",
   "name": "python",
   "nbconvert_exporter": "python",
   "pygments_lexer": "ipython3",
   "version": "3.8.18"
  }
 },
 "nbformat": 4,
 "nbformat_minor": 4
}
